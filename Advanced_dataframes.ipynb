{
 "cells": [
  {
   "cell_type": "code",
   "execution_count": 1,
   "id": "7e98f928",
   "metadata": {},
   "outputs": [],
   "source": [
    "import pandas as pd\n",
    "import numpy as np\n",
    "import matplotlib.pyplot as plt"
   ]
  },
  {
   "cell_type": "code",
   "execution_count": 2,
   "id": "c52ce784",
   "metadata": {},
   "outputs": [
    {
     "name": "stdout",
     "output_type": "stream",
     "text": [
      "Requirement already satisfied: pymysql in /opt/homebrew/anaconda3/lib/python3.11/site-packages (1.1.0)\n",
      "Note: you may need to restart the kernel to use updated packages.\n"
     ]
    }
   ],
   "source": [
    "pip install pymysql"
   ]
  },
  {
   "cell_type": "code",
   "execution_count": 3,
   "id": "7a36e4e6",
   "metadata": {},
   "outputs": [],
   "source": [
    "import pymysql as pymy"
   ]
  },
  {
   "cell_type": "code",
   "execution_count": null,
   "id": "61cabaf8",
   "metadata": {},
   "outputs": [],
   "source": [
    "from env import host, username, password\n"
   ]
  },
  {
   "cell_type": "code",
   "execution_count": null,
   "id": "f5dd871d",
   "metadata": {},
   "outputs": [],
   "source": []
  },
  {
   "cell_type": "code",
   "execution_count": null,
   "id": "8aecd9b6",
   "metadata": {},
   "outputs": [],
   "source": []
  },
  {
   "cell_type": "code",
   "execution_count": null,
   "id": "68895dd5",
   "metadata": {},
   "outputs": [],
   "source": [
    "def get_db_url(db, username=username, host=host, password=password):\n",
    "    return f'mysql+pymysql://{username}:{password}@{host}/{db}'"
   ]
  },
  {
   "cell_type": "code",
   "execution_count": null,
   "id": "5321094f",
   "metadata": {},
   "outputs": [],
   "source": [
    "#4. #b. Use your function to obtain a connection to the employees database.\n",
    "\n",
    "sql_query = 'SELECT * FROM employees'\n"
   ]
  },
  {
   "cell_type": "code",
   "execution_count": null,
   "id": "7e81696d",
   "metadata": {},
   "outputs": [],
   "source": [
    "employees = pd.read_sql(sql_query, env4.get_db_url('employees'))\n"
   ]
  },
  {
   "cell_type": "code",
   "execution_count": null,
   "id": "701104db",
   "metadata": {},
   "outputs": [],
   "source": [
    "employees.to_csv('employees.csv')\n"
   ]
  },
  {
   "cell_type": "code",
   "execution_count": null,
   "id": "23197739",
   "metadata": {},
   "outputs": [],
   "source": [
    "employees = pd.read_csv('employees.csv', index_col=0)\n",
    "employees.head()"
   ]
  },
  {
   "cell_type": "markdown",
   "id": "d64c5c00",
   "metadata": {},
   "source": [
    "#5. a. Intentionally make a typo in the database url. What kind of error message do you see?\n",
    "\n",
    "You get this: \"ProgrammingError: (pymysql.err.ProgrammingError) (1064, \"You have an error in your SQL syntax; check the manual that corresponds to your MySQL server version for the right syntax to use near '' at line 1\")\"\n"
   ]
  },
  {
   "cell_type": "code",
   "execution_count": null,
   "id": "5f8ddf58",
   "metadata": {},
   "outputs": [],
   "source": [
    "# 6. Read the employees and titles tables into two separate DataFrames.\n",
    "\n",
    "# sql_query = 'SELECT * FORM titles'\n",
    "\n",
    "# titles = pd.read_sql(sql_query, get_db_url('employees'))\n",
    "# titles.head()"
   ]
  },
  {
   "cell_type": "code",
   "execution_count": null,
   "id": "122a87b8",
   "metadata": {},
   "outputs": [],
   "source": [
    "#d. Read the employees and titles tables into two separate dataframes\n",
    "sql_query = 'SELECT * FROM titles'\n",
    "titles = pd.read_sql(sql_query, get_db_url('employees'))\n",
    "titles.head()"
   ]
  },
  {
   "cell_type": "code",
   "execution_count": null,
   "id": "28918377",
   "metadata": {},
   "outputs": [],
   "source": [
    "title_query = 'select * from titles;'\n",
    "titles = pd.read_sql(title_query, env4.get_db_url('employees'))\n",
    "titles.head()"
   ]
  },
  {
   "cell_type": "code",
   "execution_count": null,
   "id": "c990da1b",
   "metadata": {},
   "outputs": [],
   "source": [
    "#Merging tables:\n",
    "#all_emp_titles = employees.merge(titles, on='emp_no')\n",
    "#all_emp_titles.head()#"
   ]
  },
  {
   "cell_type": "code",
   "execution_count": null,
   "id": "55a39960",
   "metadata": {},
   "outputs": [],
   "source": []
  },
  {
   "cell_type": "code",
   "execution_count": null,
   "id": "b46eda59",
   "metadata": {},
   "outputs": [],
   "source": [
    "#How many rows and columns do you have in each DataFrame? Is that what you expected?\n",
    "\n",
    "_employees shape: : (300024, 6)\n",
    "\n",
    "title shape: (443308, 4)\n",
    "\n",
    "#Display the summary statistics for each DataFrame.\n",
    "titles.describe()\n",
    "employees.describe()\n",
    "\n",
    "#How many unique titles are in the titles DataFrame?\n",
    "titles.unique()\n",
    "employees.unique()\n",
    "\n",
    "#What is the oldest date in the to_date column?\n",
    "titles.to_date.min()\n",
    "#What is the most recent date in the to_date column?#\n",
    "titles.to_date.max()"
   ]
  },
  {
   "cell_type": "code",
   "execution_count": null,
   "id": "d98b83fe",
   "metadata": {},
   "outputs": [],
   "source": []
  },
  {
   "cell_type": "code",
   "execution_count": null,
   "id": "a2407ac9",
   "metadata": {},
   "outputs": [],
   "source": []
  },
  {
   "cell_type": "code",
   "execution_count": null,
   "id": "4b66f1a9",
   "metadata": {},
   "outputs": [],
   "source": []
  },
  {
   "cell_type": "code",
   "execution_count": null,
   "id": "d557b042",
   "metadata": {},
   "outputs": [],
   "source": []
  },
  {
   "cell_type": "code",
   "execution_count": null,
   "id": "890a3c99",
   "metadata": {},
   "outputs": [],
   "source": []
  },
  {
   "cell_type": "code",
   "execution_count": null,
   "id": "6350cb87",
   "metadata": {},
   "outputs": [],
   "source": [
    "#Exercise 2"
   ]
  },
  {
   "cell_type": "code",
   "execution_count": null,
   "id": "e01becd3",
   "metadata": {},
   "outputs": [],
   "source": [
    "# Copy the users and roles DataFrames from the examples above.\n",
    "\n",
    "users = pd.DataFrame({\n",
    "    'id': [1, 2, 3, 4, 5, 6],\n",
    "    'name': ['bob', 'joe', 'sally', 'adam', 'jane', 'mike'],\n",
    "    'role_id': [1, 2, 3, 3, np.nan, np.nan]\n",
    "})\n",
    "users"
   ]
  },
  {
   "cell_type": "code",
   "execution_count": null,
   "id": "a9637d78",
   "metadata": {},
   "outputs": [],
   "source": [
    "roles = pd.DataFrame({\n",
    "    'id': [1, 2, 3, 4],\n",
    "    'name': ['admin', 'author', 'reviewer', 'commenter']\n",
    "})\n",
    "roles"
   ]
  },
  {
   "cell_type": "code",
   "execution_count": null,
   "id": "d923deaa",
   "metadata": {},
   "outputs": [],
   "source": [
    "# 2. What is the result of using a right join on the DataFrames?\n",
    "\n",
    "right_join = pd.merge(users, \n",
    "                    roles, \n",
    "                    left_on='role_id', \n",
    "                    right_on='id', \n",
    "                    how='right').drop(columns='role_id').rename(columns={'id_x': 'id', \n",
    "                                                                         'name_x': 'employee',\n",
    "                                                                         'id_y': 'role_id',\n",
    "                                                                         'name_y': 'role'}\n",
    "                                                                )\n",
    "right_join"
   ]
  },
  {
   "cell_type": "code",
   "execution_count": null,
   "id": "f78110de",
   "metadata": {},
   "outputs": [],
   "source": [
    "#. What is the result of using an outer join on the DataFrames?\n",
    "\n",
    "outer_join = pd.merge(users, \n",
    "         roles, \n",
    "         left_on='role_id', \n",
    "         right_on='id', \n",
    "         how='outer').drop(columns='role_id').rename(columns={'id_x': 'id', \n",
    "                                                            'name_x': 'employee',\n",
    "                                                            'id_y': 'role_id',\n",
    "                                                            'name_y': 'role'}\n",
    "                                                    )\n",
    "outer_join"
   ]
  },
  {
   "cell_type": "code",
   "execution_count": null,
   "id": "4498abea",
   "metadata": {},
   "outputs": [],
   "source": [
    "# 4. What happens if you drop the foreign keys from the DataFrames and try to merge them?\n",
    "\n",
    "users_drop = users.drop(columns='role_id')\n",
    "users_drop"
   ]
  },
  {
   "cell_type": "code",
   "execution_count": null,
   "id": "bed087d8",
   "metadata": {},
   "outputs": [],
   "source": []
  },
  {
   "cell_type": "markdown",
   "id": "c38f929c",
   "metadata": {},
   "source": [
    "#When the instructions say to load a dataset, you can pass the name of the dataset as a string to the data function to load the dataset. You can also view the documentation for the data set by passing the show_doc keyword argument.\n",
    "\n",
    "#mpg = data('mpg') # load the dataset and store it in a variable\n",
    "#### data('mpg', show_doc=True) # view the documentation for the dataset"
   ]
  },
  {
   "cell_type": "code",
   "execution_count": null,
   "id": "75e8adeb",
   "metadata": {},
   "outputs": [],
   "source": [
    "# 5. Load the mpg dataset from PyDataset. \n",
    "# 6. Output and read the documentation for the mpg dataset.\n",
    "\n",
    "data('mpg', show_doc=True)"
   ]
  },
  {
   "cell_type": "code",
   "execution_count": null,
   "id": "0fae3e1c",
   "metadata": {},
   "outputs": [],
   "source": [
    "mpg = data('mpg')\n",
    "mpg.head()"
   ]
  },
  {
   "cell_type": "code",
   "execution_count": null,
   "id": "5afa731b",
   "metadata": {},
   "outputs": [],
   "source": [
    "#How many rows and columns are in the dataset?\n",
    "\n",
    "#Check out your column names and perform any cleanup you may want on them.\n",
    "\n",
    "#Display the summary statistics for the dataset.\n",
    "\n",
    "#How many different manufacturers are there? 15\n",
    "mpg.manufacturer.nunique()\n",
    "\n",
    "\n",
    "#How many different models are there?  38\n",
    "mpg.model.nunique()\n"
   ]
  },
  {
   "cell_type": "code",
   "execution_count": null,
   "id": "c1ee3dfe",
   "metadata": {},
   "outputs": [],
   "source": [
    "#. Create a column named average_mileage like you did in the DataFrames exercises; this is the mean of the city and highway mileage.\n",
    "\n",
    "mpg['average_mileage'] = (mpg.cty + mpg.hwy) / 2\n"
   ]
  },
  {
   "cell_type": "code",
   "execution_count": null,
   "id": "50359128",
   "metadata": {},
   "outputs": [],
   "source": [
    "# 12 .Create a column named mileage_difference like you did in the DataFrames exercises; this column should contain the difference between highway and city mileage for each car.\n",
    "\n",
    "mpg['mileage_differenc'] = mpg['cty'].subtract(mpg['hwy'])\n",
    "#mpg['mileage_differenc'] = mpg[\"cty\"] - mpg[\"hwy\"]"
   ]
  },
  {
   "cell_type": "code",
   "execution_count": null,
   "id": "4398a658",
   "metadata": {},
   "outputs": [],
   "source": [
    "# 14. Create a new column on the mpg dataset named is_automatic that holds boolean values denoting \n",
    "#whether the car has an automatic transmission.\n",
    "\n",
    "mpg['is_automatic'] = np.where(mpg.trans.str.startswith('a'), 'auto', 'manual')\n"
   ]
  },
  {
   "cell_type": "code",
   "execution_count": null,
   "id": "4bdafe10",
   "metadata": {},
   "outputs": [],
   "source": []
  },
  {
   "cell_type": "code",
   "execution_count": null,
   "id": "dad23c98",
   "metadata": {},
   "outputs": [],
   "source": [
    "# 15. Using the mpg dataset, find out which which manufacturer has the best miles per gallon on average?\n",
    "\n",
    "#mpg.groupby('manufacturer').average_mileage.mean().sort_values(ascending=False).idxmax()"
   ]
  },
  {
   "cell_type": "code",
   "execution_count": null,
   "id": "af8bcb60",
   "metadata": {},
   "outputs": [],
   "source": [
    "# 16. Do automatic or manual cars have better miles per gallon?\n",
    "\n",
    "mpg.groupby('is_automatic')[['cty', 'hwy']].mean()\n"
   ]
  },
  {
   "cell_type": "code",
   "execution_count": null,
   "id": "e43e6609",
   "metadata": {},
   "outputs": [],
   "source": []
  },
  {
   "cell_type": "code",
   "execution_count": null,
   "id": "467548d9",
   "metadata": {},
   "outputs": [],
   "source": []
  },
  {
   "cell_type": "code",
   "execution_count": null,
   "id": "1dc4b1cc",
   "metadata": {},
   "outputs": [],
   "source": [
    "#Exercises 3"
   ]
  },
  {
   "cell_type": "code",
   "execution_count": null,
   "id": "2e3883e3",
   "metadata": {},
   "outputs": [],
   "source": [
    "chipotle_sql_query = '''\n",
    "                     SELECT *\n",
    "                     FROM orders;\n",
    "                     '''"
   ]
  },
  {
   "cell_type": "code",
   "execution_count": null,
   "id": "f5edb91d",
   "metadata": {},
   "outputs": [],
   "source": [
    "orders = pd.read_sql(chipotle_sql_query, env4.get_db_url('chipotle'))\n",
    "orders.head()"
   ]
  },
  {
   "cell_type": "code",
   "execution_count": null,
   "id": "b2ec1e9c",
   "metadata": {},
   "outputs": [],
   "source": [
    "#orders.shape\n",
    "\n",
    "#orders.info()"
   ]
  },
  {
   "cell_type": "code",
   "execution_count": null,
   "id": "200b4ab9",
   "metadata": {},
   "outputs": [],
   "source": [
    "# 2. What is the total price for each order?\n",
    "\n",
    "orders['item_price'] = orders.item_price.str.replace('$', '').astype(float)\n",
    "orders.info()"
   ]
  },
  {
   "cell_type": "code",
   "execution_count": null,
   "id": "579878ae",
   "metadata": {},
   "outputs": [],
   "source": [
    "order_totals = orders.groupby('order_id')['item_price'].sum()\n"
   ]
  },
  {
   "cell_type": "code",
   "execution_count": null,
   "id": "03ca6e12",
   "metadata": {},
   "outputs": [],
   "source": []
  },
  {
   "cell_type": "code",
   "execution_count": null,
   "id": "588137d1",
   "metadata": {},
   "outputs": [],
   "source": [
    "# What are the most popular 3 items?\n",
    "\n",
    "top_three = orders.groupby('item_name')['quantity'].sum().nlargest(3)\n",
    "# Alt method: orders.groupby('item_name')['quantity'].sum().sort_values(ascending=False)[:3]\n",
    "top_three"
   ]
  },
  {
   "cell_type": "code",
   "execution_count": null,
   "id": "daa3371c",
   "metadata": {},
   "outputs": [],
   "source": []
  },
  {
   "cell_type": "code",
   "execution_count": null,
   "id": "6b2a2fbf",
   "metadata": {},
   "outputs": [],
   "source": [
    "# 4. Which item has produced the most revenue?\n",
    "\n",
    "# Alt method: orders.groupby('item_name').item_price.sum().sort_values(ascending=False).head(1)\n",
    "\n",
    "orders.groupby('item_name')['item_price'].sum().nlargest(1)"
   ]
  },
  {
   "cell_type": "code",
   "execution_count": null,
   "id": "a3595b92",
   "metadata": {},
   "outputs": [],
   "source": []
  },
  {
   "cell_type": "code",
   "execution_count": null,
   "id": "192a78ce",
   "metadata": {},
   "outputs": [],
   "source": [
    "# 5. Join the employees and titles DataFrames together.\n",
    "\n",
    "#Alt method: emp_titles = employees.merge(titles, on='emp_no')\n",
    "\n",
    "emp_titles = pd.merge(employees, titles, on='emp_no')\n",
    "emp_titles.head()"
   ]
  },
  {
   "cell_type": "code",
   "execution_count": null,
   "id": "3d4615fc",
   "metadata": {},
   "outputs": [],
   "source": []
  },
  {
   "cell_type": "code",
   "execution_count": null,
   "id": "d2b00cf1",
   "metadata": {},
   "outputs": [],
   "source": [
    "# 6. For each title, find the hire date of the employee that was hired most recently with that title.\n",
    "#Alt method: emp_titles.groupby('title').agg(max)[['hire_date']]\n",
    "\n",
    "emp_titles.groupby('title').agg({'hire_date': 'max'})"
   ]
  },
  {
   "cell_type": "code",
   "execution_count": null,
   "id": "ebaed646",
   "metadata": {},
   "outputs": [],
   "source": []
  },
  {
   "cell_type": "code",
   "execution_count": null,
   "id": "eca34530",
   "metadata": {},
   "outputs": [],
   "source": [
    "# 7. Write the code necessary to create a cross tabulation of the number of titles by department. (Hint: this will involve a combination of SQL code to pull the necessary data and python/pandas code to perform the manipulations.)\n",
    "\n",
    "dept_title_query = '''\n",
    "\n",
    "                    SELECT t.emp_no, \n",
    "                    t.title, \n",
    "                    t.from_date, \n",
    "                    t.to_date, \n",
    "                    d.dept_name \n",
    "                    FROM departments AS d \n",
    "                    JOIN dept_emp AS de USING(dept_no) \n",
    "                    JOIN titles AS t USING(emp_no);\n",
    "                    \n",
    "                    '''\n"
   ]
  },
  {
   "cell_type": "code",
   "execution_count": null,
   "id": "832905b7",
   "metadata": {},
   "outputs": [],
   "source": [
    "dept_titles = pd.read_sql(dept_title_query, env4.get_db_url('employees'))\n",
    "\n",
    "#dept_titles = employees.to_csv('dept_titles.csv')\n",
    "#pd.read_csv(dept_titles, index_col = 0)"
   ]
  },
  {
   "cell_type": "code",
   "execution_count": null,
   "id": "14bc698e",
   "metadata": {},
   "outputs": [],
   "source": [
    "current_titles = dept_titles[dept_titles.to_date == dept_titles.to_date.max()]\n"
   ]
  },
  {
   "cell_type": "markdown",
   "id": "0ff62f72",
   "metadata": {},
   "source": [
    "dept_titles.to_date == dept_titles.to_date.max() compares each date in the 'to_date' column with the maximum date. \n",
    "\n",
    "It checks if the 'to_date' of each record is equal to the maximum date. \n",
    "\n",
    "This comparison will result in a series of True and False values."
   ]
  },
  {
   "cell_type": "code",
   "execution_count": null,
   "id": "68ed8cf6",
   "metadata": {},
   "outputs": [],
   "source": [
    "#Alt method: current_titles = dept_titles.query('to_date == to_date.max()')\n"
   ]
  },
  {
   "cell_type": "code",
   "execution_count": null,
   "id": "fbe5efeb",
   "metadata": {},
   "outputs": [],
   "source": [
    "current_titles_crosstab = pd.crosstab(current_titles.dept_name, current_titles.title)\n",
    "current_titles_crosstab"
   ]
  },
  {
   "cell_type": "code",
   "execution_count": null,
   "id": "fd13beb5",
   "metadata": {},
   "outputs": [],
   "source": []
  },
  {
   "cell_type": "code",
   "execution_count": null,
   "id": "6962267b",
   "metadata": {},
   "outputs": [],
   "source": []
  },
  {
   "cell_type": "code",
   "execution_count": null,
   "id": "5c2ef7e4",
   "metadata": {},
   "outputs": [],
   "source": []
  }
 ],
 "metadata": {
  "kernelspec": {
   "display_name": "Python 3 (ipykernel)",
   "language": "python",
   "name": "python3"
  },
  "language_info": {
   "codemirror_mode": {
    "name": "ipython",
    "version": 3
   },
   "file_extension": ".py",
   "mimetype": "text/x-python",
   "name": "python",
   "nbconvert_exporter": "python",
   "pygments_lexer": "ipython3",
   "version": "3.11.5"
  }
 },
 "nbformat": 4,
 "nbformat_minor": 5
}
