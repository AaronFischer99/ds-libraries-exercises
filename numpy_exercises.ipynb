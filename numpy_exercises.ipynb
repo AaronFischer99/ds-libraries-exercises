{
 "cells": [
  {
   "cell_type": "code",
   "execution_count": 78,
   "id": "6b5ed266",
   "metadata": {},
   "outputs": [],
   "source": [
    "import numpy as np"
   ]
  },
  {
   "cell_type": "code",
   "execution_count": 79,
   "id": "2d4b71eb",
   "metadata": {},
   "outputs": [],
   "source": [
    "a = np.array([4, 10, 12, 23, -2, -1, 0, 0, 0, -6, 3, -7])\n"
   ]
  },
  {
   "cell_type": "code",
   "execution_count": 3,
   "id": "28bfd0f4",
   "metadata": {},
   "outputs": [],
   "source": [
    "output = a < 0"
   ]
  },
  {
   "cell_type": "code",
   "execution_count": 73,
   "id": "aacfba09",
   "metadata": {},
   "outputs": [
    {
     "name": "stdout",
     "output_type": "stream",
     "text": [
      "[4]\n"
     ]
    },
    {
     "ename": "IndexError",
     "evalue": "index 12 is out of bounds for axis 0 with size 12",
     "output_type": "error",
     "traceback": [
      "\u001b[0;31m---------------------------------------------------------------------------\u001b[0m",
      "\u001b[0;31mIndexError\u001b[0m                                Traceback (most recent call last)",
      "Cell \u001b[0;32mIn[73], line 5\u001b[0m\n\u001b[1;32m      2\u001b[0m n \u001b[38;5;241m=\u001b[39m []\n\u001b[1;32m      4\u001b[0m \u001b[38;5;28;01mfor\u001b[39;00m i \u001b[38;5;129;01min\u001b[39;00m a:\n\u001b[0;32m----> 5\u001b[0m     \u001b[38;5;28;01mif\u001b[39;00m a[i] \u001b[38;5;241m<\u001b[39m \u001b[38;5;241m0\u001b[39m:\n\u001b[1;32m      6\u001b[0m         n\u001b[38;5;241m.\u001b[39mappend(i)\n\u001b[1;32m      7\u001b[0m         \u001b[38;5;28mprint\u001b[39m(n)\n",
      "\u001b[0;31mIndexError\u001b[0m: index 12 is out of bounds for axis 0 with size 12"
     ]
    }
   ],
   "source": [
    "#1. Number of negative numbers\n",
    "n = []\n",
    "\n",
    "for i in a:\n",
    "    if a[i] < 0:\n",
    "        n.append(i)\n",
    "        print(n)\n",
    "        \n",
    "\n",
    "#Alt method neg_nos = list(filter(lambda x: (x < 0), list1))"
   ]
  },
  {
   "cell_type": "code",
   "execution_count": null,
   "id": "b0b2feaf",
   "metadata": {},
   "outputs": [],
   "source": []
  },
  {
   "cell_type": "code",
   "execution_count": 17,
   "id": "104683d8",
   "metadata": {},
   "outputs": [
    {
     "data": {
      "text/plain": [
       "array([False, False, False, False,  True,  True,  True,  True,  True,\n",
       "        True, False,  True])"
      ]
     },
     "execution_count": 17,
     "metadata": {},
     "output_type": "execute_result"
    }
   ],
   "source": [
    "#2. Number of positive numbers\n",
    "\n",
    "output = a > 0\n",
    "np.isin(output, a)"
   ]
  },
  {
   "cell_type": "code",
   "execution_count": 18,
   "id": "59c3cc23",
   "metadata": {},
   "outputs": [
    {
     "data": {
      "text/plain": [
       "7"
      ]
     },
     "execution_count": 18,
     "metadata": {},
     "output_type": "execute_result"
    }
   ],
   "source": [
    "sum(np.isin(output, a))"
   ]
  },
  {
   "cell_type": "code",
   "execution_count": null,
   "id": "eb1b1138",
   "metadata": {},
   "outputs": [],
   "source": []
  },
  {
   "cell_type": "code",
   "execution_count": 91,
   "id": "15e9250b",
   "metadata": {},
   "outputs": [
    {
     "name": "stdout",
     "output_type": "stream",
     "text": [
      "3\n"
     ]
    }
   ],
   "source": [
    "#3. How many even positive numbers are there\n",
    "\n",
    "n = []\n",
    "    \n",
    "for i in a:\n",
    "    if i > 0 and i % 2 == 0:\n",
    "        n.append(i)\n",
    "print(len(n))"
   ]
  },
  {
   "cell_type": "code",
   "execution_count": null,
   "id": "18792a00",
   "metadata": {},
   "outputs": [],
   "source": []
  },
  {
   "cell_type": "code",
   "execution_count": 118,
   "id": "329400a3",
   "metadata": {},
   "outputs": [
    {
     "data": {
      "text/plain": [
       "[7, 13, 15, 26, 1, 2, 3, 3, 3, -3, 6, -4]"
      ]
     },
     "execution_count": 118,
     "metadata": {},
     "output_type": "execute_result"
    }
   ],
   "source": [
    "#4. If you were to add 3 to each data point, how many positive numbers would there be?\n",
    "\n",
    "\n",
    "added = map(lambda x: x+3,a)\n",
    "added = (list(added))\n",
    "#output = added > 0\n",
    "added\n",
    "\n"
   ]
  },
  {
   "cell_type": "code",
   "execution_count": 119,
   "id": "c1027679",
   "metadata": {},
   "outputs": [
    {
     "name": "stdout",
     "output_type": "stream",
     "text": [
      "10\n"
     ]
    }
   ],
   "source": [
    "pos_count = sum(1 for x in added if x > 0)\n",
    "print(pos_count)"
   ]
  },
  {
   "cell_type": "code",
   "execution_count": null,
   "id": "70a845ab",
   "metadata": {},
   "outputs": [],
   "source": []
  },
  {
   "cell_type": "code",
   "execution_count": 131,
   "id": "33c7e6d1",
   "metadata": {},
   "outputs": [
    {
     "data": {
      "text/plain": [
       "74.0"
      ]
     },
     "execution_count": 131,
     "metadata": {},
     "output_type": "execute_result"
    }
   ],
   "source": [
    "#5. If you squared each number, what would the new mean and standard deviation be?\n",
    "\n",
    "squared = np.array(a, dtype='int64')**2\n",
    "squared.mean()\n",
    "np.std(squared)"
   ]
  },
  {
   "cell_type": "code",
   "execution_count": null,
   "id": "d4c178f8",
   "metadata": {},
   "outputs": [],
   "source": []
  },
  {
   "cell_type": "code",
   "execution_count": 135,
   "id": "31450172",
   "metadata": {},
   "outputs": [
    {
     "data": {
      "text/plain": [
       "array([-70., -64., -62., -51., -76., -75., -74., -74., -74., -80., -71.,\n",
       "       -81.])"
      ]
     },
     "execution_count": 135,
     "metadata": {},
     "output_type": "execute_result"
    }
   ],
   "source": [
    "#6. A common statistical operation on a dataset is centering. \n",
    "#This means to adjust the data such that the mean of the data is 0. \n",
    "#This is done by subtracting the mean from each data point. Center the data set. \n",
    "\n",
    "zero = np.array(a, dtype='int64')-74.0\n",
    "zero"
   ]
  },
  {
   "cell_type": "code",
   "execution_count": null,
   "id": "13cfcbf4",
   "metadata": {},
   "outputs": [],
   "source": []
  },
  {
   "cell_type": "code",
   "execution_count": 140,
   "id": "65b378a3",
   "metadata": {},
   "outputs": [
    {
     "name": "stdout",
     "output_type": "stream",
     "text": [
      "[ 0.12403473  0.86824314  1.11631261  2.48069469 -0.62017367 -0.49613894\n",
      " -0.3721042  -0.3721042  -0.3721042  -1.11631261  0.         -1.24034735]\n"
     ]
    }
   ],
   "source": [
    "#7. Calculate the z-score for each data point\n",
    "import scipy.stats as stats\n",
    "\n",
    "\n",
    "zscores = stats.zscore(a)\n",
    "print(zscores)"
   ]
  },
  {
   "cell_type": "code",
   "execution_count": null,
   "id": "c687ee70",
   "metadata": {},
   "outputs": [],
   "source": []
  },
  {
   "cell_type": "code",
   "execution_count": null,
   "id": "d515fec3",
   "metadata": {},
   "outputs": [],
   "source": [
    "# Exercise 8 problems"
   ]
  },
  {
   "cell_type": "code",
   "execution_count": null,
   "id": "90dcdc53",
   "metadata": {},
   "outputs": [],
   "source": [
    "import numpy as np\n",
    "# Life w/o numpy to life with numpy\n",
    "\n",
    "## Setup 1\n",
    "a = [1, 2, 3, 4, 5, 6, 7, 8, 9, 10]\n",
    "\n",
    "# Use python's built in functionality/operators to determine the following:\n",
    "# Exercise 1 - Make a variable called sum_of_a to hold the sum of all the numbers in above list\n",
    "#sum_of_a = 0\n",
    "\n",
    "#for ele in range(0, len(a)):\n",
    "    \n",
    " #   sum_of_a += a[ele]\n",
    "    \n",
    "  #  print(sum_of_a)\n",
    "\n",
    "# Exercise 2 - Make a variable named min_of_a to hold the minimum of all the numbers in the above list\n",
    "#min_of_a = min(a)\n",
    "#print(min_of_a)\n",
    "\n",
    "# Exercise 3 - Make a variable named max_of_a to hold the max number of all the numbers in the above list\n",
    "#max_of_a = max(a)\n",
    "#print(max_of_a)\n",
    "\n",
    "# Exercise 4 - Make a variable named mean_of_a to hold the average of all the numbers in the above list\n",
    "#mean_of_a = np.mean(a)\n",
    "#print(mean_of_a)\n",
    "\n",
    "# Exercise 5 - Make a variable named product_of_a to hold the product of multiplying all the numbers in the above list together\n",
    "#product_of_a = np.prod(a)\n",
    "#print(product_of_a)\n",
    "# Exercise 6 - Make a variable named squares_of_a. It should hold each number in a squared like [1, 4, 9, 16, 25...]\n",
    "\n",
    "#squares_of_a = np.sqrt(a)\n",
    "#print(squares_of_a)\n",
    "\n",
    "# Exercise 7 - Make a variable named odds_in_a. It should hold only the odd numbers\n",
    "#odds_in_a = map(lambda x: x % 2 == 1,a)\n",
    "#odds_in_a = list(odds_in_a)\n",
    "#print(odds_in_a)\n",
    "\n",
    "#odds_in_a = list(filter(lambda x: x % 2 == 1, a))\n",
    "#print(odds_in_a)\n",
    "#print([i % 2 == 1 for i in a])\n",
    "\n",
    "\n",
    "# Exercise 8 - Make a variable named evens_in_a. It should hold only the evens.\n",
    "#evens_in_a = [i % 2 == 0 for i in a]\n",
    "#evens_in_a = list(filter(lambda x: (x%2==0),a))  \n",
    "#print(even_num)\n",
    "\n",
    "\n",
    "## What about life in two dimensions? A list of lists is matrix, a table, a spreadsheet, a chessboard...\n",
    "## Setup 2: Consider what it would take to find the sum, min, max, average, sum, product, and list of squares for this list of two lists.\n",
    "\n",
    "\n",
    "\n",
    "\n",
    "b = [\n",
    "    [3, 4, 5],\n",
    "    [6, 7, 8]\n",
    "]\n",
    "\n",
    " #Exercise 1 - refactor the following to use numpy. Use sum_of_b as the variable. **Hint, you'll first need to make sure that the \"b\" variable is a numpy array**\n",
    "#(lambda x: sum(x),b)\n",
    "#sum_of_b = np.sum(b)\n",
    "\n",
    "\n",
    "\n",
    "\n",
    "# Exercise 2 - refactor the following to use numpy. \n",
    "#min_of_b = min(b[0]) if min(b[0]) <= min(b[1]) else min(b[1])  \n",
    "#np.min(b)\n",
    "\n",
    "\n",
    "\n",
    "\n",
    "# Exercise 4 - refactor the following using numpy to find the mean of b\n",
    "#np.mean(b)\n",
    "\n",
    "# Exercise 5 - refactor the following to use numpy for calculating the product of all numbers multiplied together.\n",
    "#np.prod(b)\n",
    "\n",
    "# Exercise 6 - refactor the following to use numpy to find the list of squares \n",
    "#np.array(b, dtype='int64')**2\n",
    "\n",
    "odds_in_b = []\n",
    "for row in b:\n",
    "    for number in row:\n",
    "        if(number % 2 != 0):\n",
    "            odds_in_b.append(number)\n",
    "            \n",
    "odds_in_b\n",
    "\n",
    "b_new = [\n",
    "    [3, 4, 5],\n",
    "    [6, 7, 8]\n",
    "]\n",
    "\n",
    "b_new = np.array(b_new)\n",
    "\n",
    "b_new[b_new % 2 == 1]\n",
    "\n",
    "\n",
    "\n",
    "# Exercise 8 - refactor the following to use numpy to filter only the even numbers\n",
    "evens_in_b = []\n",
    "for row in b:\n",
    "    for number in row:\n",
    "        if(number % 2 == 0):\n",
    "            evens_in_b.append(number)\n",
    "\n",
    "b_new = np.array(b_new)\n",
    "\n",
    "b_new[b_new % 2 == 0]\n",
    "\n",
    "\n",
    "\n",
    "# Exercise 9 - print out the shape of the array b.\n",
    "#b_new = np.array(b_new)\n",
    "\n",
    "#b_new.shape\n",
    "\n",
    "\n",
    "\n",
    "# Exercise 10 - transpose the array b.\n",
    "#b_new.transpose()\n",
    "\n",
    "# Exercise 11 - reshape the array b to be a single list of 6 numbers. (1 x 6)\n",
    "#b_new.flatten()\n",
    "\n",
    "type(b_new)\n",
    "\n",
    "# Exercise 12 - reshape the array b to be a list of 6 lists, each containing only 1 number (6 x 1)\n",
    "b_new.reshape(-1,1)\n",
    "\n",
    "\n",
    "\n",
    "c = [\n",
    "    [1, 2, 3],\n",
    "    [4, 5, 6],\n",
    "    [7, 8, 9]\n",
    "]\n",
    "\n",
    "c = np.array(c)\n",
    "type(c)\n",
    "c\n",
    "\n",
    "# Exercise 1 - Find the min, max, sum, and product of c.\n",
    "#np.min(c), np.max(c), np.sum(c), np.product(c)\n",
    "\n",
    "# Exercise 2 - Determine the standard deviation of c.\n",
    "#np.std(c)\n",
    "\n",
    "# Exercise 3 - Determine the variance of c.\n",
    "#np.var(c)\n",
    "\n",
    "# Exercise 4 - Print out the shape of the array c\n",
    "#np.shape(c)\n",
    "\n",
    "# Exercise 5 - Transpose c and print out transposed result.\n",
    "#np.transpose(c)\n",
    "\n",
    "# Exercise 6 - Get the dot product of the array c with c. \n",
    "#np.dot([1,4,7], [2,5,8]), np.dot()\n",
    "\n",
    "#np.dot(c,c)\n",
    "\n",
    "\n",
    "\n",
    "\n",
    "\n",
    "# Exercise 7 - Write the code necessary to sum up the result of c times c transposed. Answer should be 261\n",
    "result = (np.dot(c, c.T))\n",
    "np.sum(result)\n",
    "\n",
    "# Exercise 8 - Write the code necessary to determine the product of c times c transposed. Answer should be 131681894400.\n",
    "\n",
    "\n",
    "np.prod(np.dot(c, c.T))\n",
    "\n",
    "\n",
    "\n",
    "d = [\n",
    "    [90, 30, 45, 0, 120, 180],\n",
    "    [45, -90, -30, 270, 90, 0],\n",
    "    [60, 45, -45, 90, -45, 180]\n",
    "]\n",
    "\n",
    "np.array(d)\n",
    "\n",
    "# Exercise 1 - Find the sine of all the numbers in d\n",
    "np.sin(d)\n",
    "\n",
    "# Exercise 2 - Find the cosine of all the numbers in d\n",
    "np.cos(d)\n",
    "\n",
    "# Exercise 3 - Find the tangent of all the numbers in d\n",
    "np.tan(d)\n",
    "\n",
    "# Exercise 4 - Find all the negative numbers in d\n",
    "d = np.array(d)\n",
    "type(d)\n",
    "d[d<0]\n",
    "#len(d[d<=0])\n",
    "\n",
    "# Exercise 5 - Find all the positive numbers in d\n",
    "d = np.array(d)\n",
    "type(d)\n",
    "d[d>0]\n",
    "\n",
    "# Exercise 6 - Return an array of only the unique numbers in d.\n",
    "d = np.array(d)\n",
    "type(d)\n",
    "np.unique(d)\n",
    "\n",
    "# Exercise 7 - Determine how many unique numbers there are in d.\n",
    "d = np.array(d)\n",
    "type(d)\n",
    "len(np.unique(d))\n",
    "\n",
    "# Exercise 8 - Print out the shape of d.\n",
    "d = np.array(d)\n",
    "d.shape\n",
    "\n",
    "# Exercise 9 - Transpose and then print out the shape of d.\n",
    "d = np.array(d)\n",
    "d.transpose().shape\n",
    "\n",
    "# Exercise 10 - Reshape d into an array of 9 x 2\n",
    "d = np.array(d)\n",
    "\n",
    "np.reshape(d, (9,2))"
   ]
  },
  {
   "cell_type": "code",
   "execution_count": null,
   "id": "3e524643",
   "metadata": {},
   "outputs": [],
   "source": []
  }
 ],
 "metadata": {
  "kernelspec": {
   "display_name": "Python 3 (ipykernel)",
   "language": "python",
   "name": "python3"
  },
  "language_info": {
   "codemirror_mode": {
    "name": "ipython",
    "version": 3
   },
   "file_extension": ".py",
   "mimetype": "text/x-python",
   "name": "python",
   "nbconvert_exporter": "python",
   "pygments_lexer": "ipython3",
   "version": "3.11.5"
  }
 },
 "nbformat": 4,
 "nbformat_minor": 5
}
